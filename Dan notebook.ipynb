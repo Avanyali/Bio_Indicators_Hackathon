{
 "cells": [
  {
   "cell_type": "code",
   "execution_count": 100,
   "metadata": {
    "ExecuteTime": {
     "end_time": "2021-05-03T20:50:11.049179Z",
     "start_time": "2021-05-03T20:50:11.035166Z"
    }
   },
   "outputs": [],
   "source": [
    "# standard imports\n",
    "import pandas as pd\n",
    "import numpy as np\n",
    "import matplotlib.pyplot as plt\n",
    "import seaborn as sns\n",
    "# modeling imports\n",
    "from sklearn.model_selection import train_test_split,cross_val_score, RandomizedSearchCV\n",
    "from sklearn.preprocessing import StandardScaler\n",
    "from sklearn.decomposition import PCA\n",
    "from sklearn.ensemble import RandomForestClassifier, ExtraTreesClassifier\n",
    "from sklearn.pipeline import Pipeline\n",
    "from sklearn.dummy import DummyClassifier\n",
    "import joblib\n",
    "from sklearn.metrics import confusion_matrix, plot_confusion_matrix,\\\n",
    "accuracy_score, plot_roc_curve, roc_auc_score, recall_score, precision_score"
   ]
  },
  {
   "cell_type": "code",
   "execution_count": 2,
   "metadata": {
    "ExecuteTime": {
     "end_time": "2021-05-03T18:25:25.173465Z",
     "start_time": "2021-05-03T18:25:24.396420Z"
    }
   },
   "outputs": [],
   "source": [
    "df = pd.read_csv('./data/train.csv')"
   ]
  },
  {
   "cell_type": "code",
   "execution_count": 3,
   "metadata": {
    "ExecuteTime": {
     "end_time": "2021-05-03T18:25:25.189474Z",
     "start_time": "2021-05-03T18:25:25.175461Z"
    }
   },
   "outputs": [
    {
     "data": {
      "text/plain": [
       "(3751, 1777)"
      ]
     },
     "execution_count": 3,
     "metadata": {},
     "output_type": "execute_result"
    }
   ],
   "source": [
    "df.shape"
   ]
  },
  {
   "cell_type": "code",
   "execution_count": 4,
   "metadata": {
    "ExecuteTime": {
     "end_time": "2021-05-03T18:25:25.221501Z",
     "start_time": "2021-05-03T18:25:25.191474Z"
    },
    "scrolled": false
   },
   "outputs": [
    {
     "data": {
      "text/html": [
       "<div>\n",
       "<style scoped>\n",
       "    .dataframe tbody tr th:only-of-type {\n",
       "        vertical-align: middle;\n",
       "    }\n",
       "\n",
       "    .dataframe tbody tr th {\n",
       "        vertical-align: top;\n",
       "    }\n",
       "\n",
       "    .dataframe thead th {\n",
       "        text-align: right;\n",
       "    }\n",
       "</style>\n",
       "<table border=\"1\" class=\"dataframe\">\n",
       "  <thead>\n",
       "    <tr style=\"text-align: right;\">\n",
       "      <th></th>\n",
       "      <th>Activity</th>\n",
       "      <th>D1</th>\n",
       "      <th>D2</th>\n",
       "      <th>D3</th>\n",
       "      <th>D4</th>\n",
       "      <th>D5</th>\n",
       "      <th>D6</th>\n",
       "      <th>D7</th>\n",
       "      <th>D8</th>\n",
       "      <th>D9</th>\n",
       "      <th>...</th>\n",
       "      <th>D1767</th>\n",
       "      <th>D1768</th>\n",
       "      <th>D1769</th>\n",
       "      <th>D1770</th>\n",
       "      <th>D1771</th>\n",
       "      <th>D1772</th>\n",
       "      <th>D1773</th>\n",
       "      <th>D1774</th>\n",
       "      <th>D1775</th>\n",
       "      <th>D1776</th>\n",
       "    </tr>\n",
       "  </thead>\n",
       "  <tbody>\n",
       "    <tr>\n",
       "      <th>0</th>\n",
       "      <td>1</td>\n",
       "      <td>0.000000</td>\n",
       "      <td>0.497009</td>\n",
       "      <td>0.10</td>\n",
       "      <td>0.0</td>\n",
       "      <td>0.132956</td>\n",
       "      <td>0.678031</td>\n",
       "      <td>0.273166</td>\n",
       "      <td>0.585445</td>\n",
       "      <td>0.743663</td>\n",
       "      <td>...</td>\n",
       "      <td>0</td>\n",
       "      <td>0</td>\n",
       "      <td>0</td>\n",
       "      <td>0</td>\n",
       "      <td>0</td>\n",
       "      <td>0</td>\n",
       "      <td>0</td>\n",
       "      <td>0</td>\n",
       "      <td>0</td>\n",
       "      <td>0</td>\n",
       "    </tr>\n",
       "    <tr>\n",
       "      <th>1</th>\n",
       "      <td>1</td>\n",
       "      <td>0.366667</td>\n",
       "      <td>0.606291</td>\n",
       "      <td>0.05</td>\n",
       "      <td>0.0</td>\n",
       "      <td>0.111209</td>\n",
       "      <td>0.803455</td>\n",
       "      <td>0.106105</td>\n",
       "      <td>0.411754</td>\n",
       "      <td>0.836582</td>\n",
       "      <td>...</td>\n",
       "      <td>1</td>\n",
       "      <td>1</td>\n",
       "      <td>1</td>\n",
       "      <td>1</td>\n",
       "      <td>0</td>\n",
       "      <td>1</td>\n",
       "      <td>0</td>\n",
       "      <td>0</td>\n",
       "      <td>1</td>\n",
       "      <td>0</td>\n",
       "    </tr>\n",
       "    <tr>\n",
       "      <th>2</th>\n",
       "      <td>1</td>\n",
       "      <td>0.033300</td>\n",
       "      <td>0.480124</td>\n",
       "      <td>0.00</td>\n",
       "      <td>0.0</td>\n",
       "      <td>0.209791</td>\n",
       "      <td>0.610350</td>\n",
       "      <td>0.356453</td>\n",
       "      <td>0.517720</td>\n",
       "      <td>0.679051</td>\n",
       "      <td>...</td>\n",
       "      <td>0</td>\n",
       "      <td>0</td>\n",
       "      <td>0</td>\n",
       "      <td>0</td>\n",
       "      <td>0</td>\n",
       "      <td>0</td>\n",
       "      <td>0</td>\n",
       "      <td>0</td>\n",
       "      <td>0</td>\n",
       "      <td>0</td>\n",
       "    </tr>\n",
       "    <tr>\n",
       "      <th>3</th>\n",
       "      <td>1</td>\n",
       "      <td>0.000000</td>\n",
       "      <td>0.538825</td>\n",
       "      <td>0.00</td>\n",
       "      <td>0.5</td>\n",
       "      <td>0.196344</td>\n",
       "      <td>0.724230</td>\n",
       "      <td>0.235606</td>\n",
       "      <td>0.288764</td>\n",
       "      <td>0.805110</td>\n",
       "      <td>...</td>\n",
       "      <td>0</td>\n",
       "      <td>0</td>\n",
       "      <td>0</td>\n",
       "      <td>0</td>\n",
       "      <td>0</td>\n",
       "      <td>0</td>\n",
       "      <td>0</td>\n",
       "      <td>0</td>\n",
       "      <td>0</td>\n",
       "      <td>0</td>\n",
       "    </tr>\n",
       "    <tr>\n",
       "      <th>4</th>\n",
       "      <td>0</td>\n",
       "      <td>0.100000</td>\n",
       "      <td>0.517794</td>\n",
       "      <td>0.00</td>\n",
       "      <td>0.0</td>\n",
       "      <td>0.494734</td>\n",
       "      <td>0.781422</td>\n",
       "      <td>0.154361</td>\n",
       "      <td>0.303809</td>\n",
       "      <td>0.812646</td>\n",
       "      <td>...</td>\n",
       "      <td>0</td>\n",
       "      <td>0</td>\n",
       "      <td>0</td>\n",
       "      <td>0</td>\n",
       "      <td>0</td>\n",
       "      <td>0</td>\n",
       "      <td>0</td>\n",
       "      <td>0</td>\n",
       "      <td>0</td>\n",
       "      <td>0</td>\n",
       "    </tr>\n",
       "  </tbody>\n",
       "</table>\n",
       "<p>5 rows × 1777 columns</p>\n",
       "</div>"
      ],
      "text/plain": [
       "   Activity        D1        D2    D3   D4        D5        D6        D7  \\\n",
       "0         1  0.000000  0.497009  0.10  0.0  0.132956  0.678031  0.273166   \n",
       "1         1  0.366667  0.606291  0.05  0.0  0.111209  0.803455  0.106105   \n",
       "2         1  0.033300  0.480124  0.00  0.0  0.209791  0.610350  0.356453   \n",
       "3         1  0.000000  0.538825  0.00  0.5  0.196344  0.724230  0.235606   \n",
       "4         0  0.100000  0.517794  0.00  0.0  0.494734  0.781422  0.154361   \n",
       "\n",
       "         D8        D9  ...  D1767  D1768  D1769  D1770  D1771  D1772  D1773  \\\n",
       "0  0.585445  0.743663  ...      0      0      0      0      0      0      0   \n",
       "1  0.411754  0.836582  ...      1      1      1      1      0      1      0   \n",
       "2  0.517720  0.679051  ...      0      0      0      0      0      0      0   \n",
       "3  0.288764  0.805110  ...      0      0      0      0      0      0      0   \n",
       "4  0.303809  0.812646  ...      0      0      0      0      0      0      0   \n",
       "\n",
       "   D1774  D1775  D1776  \n",
       "0      0      0      0  \n",
       "1      0      1      0  \n",
       "2      0      0      0  \n",
       "3      0      0      0  \n",
       "4      0      0      0  \n",
       "\n",
       "[5 rows x 1777 columns]"
      ]
     },
     "execution_count": 4,
     "metadata": {},
     "output_type": "execute_result"
    }
   ],
   "source": [
    "df.head()"
   ]
  },
  {
   "cell_type": "code",
   "execution_count": 5,
   "metadata": {
    "ExecuteTime": {
     "end_time": "2021-05-03T18:25:25.269556Z",
     "start_time": "2021-05-03T18:25:25.222513Z"
    }
   },
   "outputs": [
    {
     "data": {
      "text/plain": [
       "Series([], dtype: int64)"
      ]
     },
     "execution_count": 5,
     "metadata": {},
     "output_type": "execute_result"
    }
   ],
   "source": [
    "nulls = df.isnull().sum().sort_values(ascending =False)\n",
    "nulls[nulls > 0]"
   ]
  },
  {
   "cell_type": "code",
   "execution_count": 6,
   "metadata": {
    "ExecuteTime": {
     "end_time": "2021-05-03T18:25:25.285558Z",
     "start_time": "2021-05-03T18:25:25.271546Z"
    }
   },
   "outputs": [
    {
     "data": {
      "text/plain": [
       "1    0.542255\n",
       "0    0.457745\n",
       "Name: Activity, dtype: float64"
      ]
     },
     "execution_count": 6,
     "metadata": {},
     "output_type": "execute_result"
    }
   ],
   "source": [
    "df['Activity'].value_counts(normalize=True)"
   ]
  },
  {
   "cell_type": "code",
   "execution_count": 7,
   "metadata": {
    "ExecuteTime": {
     "end_time": "2021-05-03T18:25:28.473898Z",
     "start_time": "2021-05-03T18:25:25.288562Z"
    }
   },
   "outputs": [],
   "source": [
    "describedf = df.describe().T"
   ]
  },
  {
   "cell_type": "code",
   "execution_count": 8,
   "metadata": {
    "ExecuteTime": {
     "end_time": "2021-05-03T18:25:28.504925Z",
     "start_time": "2021-05-03T18:25:28.476902Z"
    }
   },
   "outputs": [],
   "source": [
    "X = df.drop(columns='Activity')\n",
    "y = df['Activity']"
   ]
  },
  {
   "cell_type": "code",
   "execution_count": 9,
   "metadata": {
    "ExecuteTime": {
     "end_time": "2021-05-03T18:25:28.598003Z",
     "start_time": "2021-05-03T18:25:28.506927Z"
    }
   },
   "outputs": [],
   "source": [
    "X_train, X_test, y_train, y_test = train_test_split(X, y, test_size=0.35, random_state=42, stratify = y)"
   ]
  },
  {
   "cell_type": "code",
   "execution_count": null,
   "metadata": {},
   "outputs": [],
   "source": [
    "#https://stackabuse.com/implementing-pca-in-python-with-scikit-learn/"
   ]
  },
  {
   "cell_type": "code",
   "execution_count": 10,
   "metadata": {
    "ExecuteTime": {
     "end_time": "2021-05-03T18:25:31.277649Z",
     "start_time": "2021-05-03T18:25:28.600005Z"
    }
   },
   "outputs": [],
   "source": [
    "pca = PCA(random_state=42)\n",
    "X_train_pca = pca.fit_transform(X_train)"
   ]
  },
  {
   "cell_type": "code",
   "execution_count": 11,
   "metadata": {
    "ExecuteTime": {
     "end_time": "2021-05-03T18:25:31.478827Z",
     "start_time": "2021-05-03T18:25:31.281655Z"
    }
   },
   "outputs": [],
   "source": [
    "X_test_pca = pca.transform(X_test)"
   ]
  },
  {
   "cell_type": "code",
   "execution_count": 12,
   "metadata": {
    "ExecuteTime": {
     "end_time": "2021-05-03T18:25:31.494842Z",
     "start_time": "2021-05-03T18:25:31.480831Z"
    },
    "scrolled": true
   },
   "outputs": [
    {
     "data": {
      "text/plain": [
       "array([[-2.91697789e+00,  1.46044655e+00, -8.36538409e-02, ...,\n",
       "        -3.94578367e-18, -3.43330048e-18,  1.44578958e-15],\n",
       "       [-3.73646344e+00,  2.34996362e+00, -6.87989859e-01, ...,\n",
       "         5.89971199e-17, -4.97632703e-17,  1.41592554e-16],\n",
       "       [ 2.86488462e-01, -4.12970365e+00,  8.39523869e-01, ...,\n",
       "         1.90826498e-16,  4.52719796e-17,  2.36760182e-16],\n",
       "       ...,\n",
       "       [ 8.16250493e+00,  4.67390868e+00,  7.88067866e+00, ...,\n",
       "        -7.25846306e-18,  1.11200528e-18,  1.74530530e-17],\n",
       "       [ 5.36047033e+00,  5.23117355e-01, -1.70032844e+00, ...,\n",
       "        -1.06935400e-16, -7.67360566e-17,  3.34346667e-17],\n",
       "       [-5.00000215e-01, -3.45569446e+00,  6.03250006e-01, ...,\n",
       "         1.91889126e-16,  1.17098056e-16,  8.88215934e-17]])"
      ]
     },
     "execution_count": 12,
     "metadata": {},
     "output_type": "execute_result"
    }
   ],
   "source": [
    "X_train_pca"
   ]
  },
  {
   "cell_type": "code",
   "execution_count": 13,
   "metadata": {
    "ExecuteTime": {
     "end_time": "2021-05-03T18:25:31.510855Z",
     "start_time": "2021-05-03T18:25:31.496843Z"
    }
   },
   "outputs": [],
   "source": [
    "explained_variance = pca.explained_variance_ratio_"
   ]
  },
  {
   "cell_type": "code",
   "execution_count": 123,
   "metadata": {
    "ExecuteTime": {
     "end_time": "2021-05-03T21:59:25.556123Z",
     "start_time": "2021-05-03T21:59:25.159707Z"
    }
   },
   "outputs": [
    {
     "data": {
      "image/png": "[encoded data removed]",
      "text/plain": [
       "<Figure size 432x288 with 1 Axes>"
      ]
     },
     "metadata": {
      "needs_background": "light"
     },
     "output_type": "display_data"
    }
   ],
   "source": [
    "plt.plot(np.cumsum(explained_variance))\n",
    "plt.xlabel('number of components')\n",
    "plt.ylabel('cumulative explained variance')\n",
    "plt.title('Cumulative Explained Variance for PCA');"
   ]
  },
  {
   "cell_type": "code",
   "execution_count": 15,
   "metadata": {
    "ExecuteTime": {
     "end_time": "2021-05-03T18:25:31.744063Z",
     "start_time": "2021-05-03T18:25:31.730052Z"
    }
   },
   "outputs": [
    {
     "data": {
      "text/plain": [
       "1776"
      ]
     },
     "execution_count": 15,
     "metadata": {},
     "output_type": "execute_result"
    }
   ],
   "source": [
    "len(explained_variance)"
   ]
  },
  {
   "cell_type": "code",
   "execution_count": 16,
   "metadata": {
    "ExecuteTime": {
     "end_time": "2021-05-03T18:25:31.759076Z",
     "start_time": "2021-05-03T18:25:31.746066Z"
    }
   },
   "outputs": [],
   "source": [
    "rfc = RandomForestClassifier()"
   ]
  },
  {
   "cell_type": "code",
   "execution_count": 17,
   "metadata": {
    "ExecuteTime": {
     "end_time": "2021-05-03T18:25:39.180640Z",
     "start_time": "2021-05-03T18:25:31.762080Z"
    }
   },
   "outputs": [
    {
     "data": {
      "text/plain": [
       "RandomForestClassifier()"
      ]
     },
     "execution_count": 17,
     "metadata": {},
     "output_type": "execute_result"
    }
   ],
   "source": [
    "rfc.fit(X_train_pca,y_train)"
   ]
  },
  {
   "cell_type": "code",
   "execution_count": 18,
   "metadata": {
    "ExecuteTime": {
     "end_time": "2021-05-03T18:25:39.356806Z",
     "start_time": "2021-05-03T18:25:39.182641Z"
    }
   },
   "outputs": [
    {
     "data": {
      "text/plain": [
       "(1.0, 0.6496572734196496)"
      ]
     },
     "execution_count": 18,
     "metadata": {},
     "output_type": "execute_result"
    }
   ],
   "source": [
    "rfc.score(X_train_pca,y_train),rfc.score(X_test_pca,y_test)"
   ]
  },
  {
   "cell_type": "code",
   "execution_count": 19,
   "metadata": {
    "ExecuteTime": {
     "end_time": "2021-05-03T18:25:39.372809Z",
     "start_time": "2021-05-03T18:25:39.358799Z"
    }
   },
   "outputs": [],
   "source": [
    "pca2 = PCA(n_components=500,random_state=42)"
   ]
  },
  {
   "cell_type": "code",
   "execution_count": 20,
   "metadata": {
    "ExecuteTime": {
     "end_time": "2021-05-03T18:25:40.882147Z",
     "start_time": "2021-05-03T18:25:39.374812Z"
    }
   },
   "outputs": [],
   "source": [
    "pca2 = PCA(n_components=500,random_state=42)\n",
    "X_train_pca2 = pca2.fit_transform(X_train)\n",
    "X_test_pca2 = pca2.transform(X_test)"
   ]
  },
  {
   "cell_type": "code",
   "execution_count": 21,
   "metadata": {
    "ExecuteTime": {
     "end_time": "2021-05-03T18:25:40.992245Z",
     "start_time": "2021-05-03T18:25:40.884148Z"
    }
   },
   "outputs": [],
   "source": [
    "X_test_pca2 = pca2.transform(X_test)"
   ]
  },
  {
   "cell_type": "code",
   "execution_count": 22,
   "metadata": {
    "ExecuteTime": {
     "end_time": "2021-05-03T18:25:41.008259Z",
     "start_time": "2021-05-03T18:25:40.997251Z"
    }
   },
   "outputs": [
    {
     "data": {
      "text/plain": [
       "(2438, 500)"
      ]
     },
     "execution_count": 22,
     "metadata": {},
     "output_type": "execute_result"
    }
   ],
   "source": [
    "X_train_pca2.shape"
   ]
  },
  {
   "cell_type": "code",
   "execution_count": 25,
   "metadata": {
    "ExecuteTime": {
     "end_time": "2021-05-03T18:25:41.069313Z",
     "start_time": "2021-05-03T18:25:41.056301Z"
    }
   },
   "outputs": [],
   "source": [
    "rfc2 = RandomForestClassifier()"
   ]
  },
  {
   "cell_type": "code",
   "execution_count": 26,
   "metadata": {
    "ExecuteTime": {
     "end_time": "2021-05-03T18:25:44.919097Z",
     "start_time": "2021-05-03T18:25:41.071316Z"
    }
   },
   "outputs": [
    {
     "data": {
      "text/plain": [
       "RandomForestClassifier()"
      ]
     },
     "execution_count": 26,
     "metadata": {},
     "output_type": "execute_result"
    }
   ],
   "source": [
    "rfc2.fit(X_train_pca2,y_train)"
   ]
  },
  {
   "cell_type": "code",
   "execution_count": 27,
   "metadata": {
    "ExecuteTime": {
     "end_time": "2021-05-03T18:25:45.092249Z",
     "start_time": "2021-05-03T18:25:44.921101Z"
    }
   },
   "outputs": [
    {
     "data": {
      "text/plain": [
       "(1.0, 0.7418126428027418)"
      ]
     },
     "execution_count": 27,
     "metadata": {},
     "output_type": "execute_result"
    }
   ],
   "source": [
    "rfc2.score(X_train_pca2,y_train),rfc2.score(X_test_pca2,y_test)"
   ]
  },
  {
   "cell_type": "markdown",
   "metadata": {},
   "source": [
    "### baseline model"
   ]
  },
  {
   "cell_type": "code",
   "execution_count": 101,
   "metadata": {
    "ExecuteTime": {
     "end_time": "2021-05-03T20:50:45.462533Z",
     "start_time": "2021-05-03T20:50:41.820493Z"
    }
   },
   "outputs": [],
   "source": [
    "X = df.drop(columns='Activity')\n",
    "y = df['Activity']\n",
    "X_train, X_test, y_train, y_test = train_test_split(X, y, test_size=0.35, random_state=42, stratify = y)"
   ]
  },
  {
   "cell_type": "code",
   "execution_count": 102,
   "metadata": {
    "ExecuteTime": {
     "end_time": "2021-05-03T20:50:46.838398Z",
     "start_time": "2021-05-03T20:50:46.825387Z"
    },
    "scrolled": true
   },
   "outputs": [
    {
     "name": "stdout",
     "output_type": "stream",
     "text": [
      "dummy score: 0.5422553985603839\n"
     ]
    }
   ],
   "source": [
    "dc = DummyClassifier(strategy='most_frequent')\n",
    "dc.fit(X,y)\n",
    "print(f'dummy score: {dc.score(X,y)}')\n",
    "null_preds = dc.predict(X)"
   ]
  },
  {
   "cell_type": "code",
   "execution_count": 104,
   "metadata": {
    "ExecuteTime": {
     "end_time": "2021-05-03T20:52:12.309832Z",
     "start_time": "2021-05-03T20:52:12.293818Z"
    },
    "scrolled": true
   },
   "outputs": [
    {
     "name": "stderr",
     "output_type": "stream",
     "text": [
      "C:\\Users\\DanAn\\anaconda3secondinstall\\lib\\site-packages\\sklearn\\dummy.py:354: RuntimeWarning: divide by zero encountered in log\n",
      "  return np.log(proba)\n"
     ]
    },
    {
     "data": {
      "text/plain": [
       "0.5"
      ]
     },
     "execution_count": 104,
     "metadata": {},
     "output_type": "execute_result"
    }
   ],
   "source": [
    "roc_auc_score(y_train,dc.predict_log_proba(X_train)[:,1])"
   ]
  },
  {
   "cell_type": "code",
   "execution_count": 105,
   "metadata": {
    "ExecuteTime": {
     "end_time": "2021-05-03T20:53:25.597490Z",
     "start_time": "2021-05-03T20:53:25.589483Z"
    }
   },
   "outputs": [
    {
     "data": {
      "text/plain": [
       "['./models/baseline.pkl']"
      ]
     },
     "execution_count": 105,
     "metadata": {},
     "output_type": "execute_result"
    }
   ],
   "source": [
    "joblib.dump(dc,'./models/baseline.pkl')"
   ]
  },
  {
   "cell_type": "code",
   "execution_count": null,
   "metadata": {},
   "outputs": [],
   "source": [
    "joblib.dump(modelname,'./models/modelname.pkl')"
   ]
  },
  {
   "cell_type": "markdown",
   "metadata": {},
   "source": [
    "me: random forest, extra trees. ryan: bagging, support vector. ben: log reg + boost"
   ]
  },
  {
   "cell_type": "markdown",
   "metadata": {},
   "source": [
    "# serious model attempts:"
   ]
  },
  {
   "cell_type": "markdown",
   "metadata": {},
   "source": [
    "# random forest"
   ]
  },
  {
   "cell_type": "code",
   "execution_count": 34,
   "metadata": {
    "ExecuteTime": {
     "end_time": "2021-05-03T18:25:47.529335Z",
     "start_time": "2021-05-03T18:25:47.393291Z"
    }
   },
   "outputs": [],
   "source": [
    "X = df.drop(columns='Activity')\n",
    "y = df['Activity']\n",
    "X_train, X_test, y_train, y_test = train_test_split(X, y, test_size=0.35, random_state=42, stratify = y)"
   ]
  },
  {
   "cell_type": "code",
   "execution_count": 36,
   "metadata": {
    "ExecuteTime": {
     "end_time": "2021-05-03T18:25:47.559450Z",
     "start_time": "2021-05-03T18:25:47.546439Z"
    }
   },
   "outputs": [],
   "source": [
    "pipe1 = Pipeline([\n",
    "    ('pca', PCA(random_state=42)),\n",
    "    ('rfc', RandomForestClassifier())\n",
    "])"
   ]
  },
  {
   "cell_type": "code",
   "execution_count": 43,
   "metadata": {
    "ExecuteTime": {
     "end_time": "2021-05-03T18:34:06.943597Z",
     "start_time": "2021-05-03T18:34:06.928584Z"
    }
   },
   "outputs": [],
   "source": [
    "pipe1_params = {\n",
    "    'pca__n_components' : list(range(300,801,50)),\n",
    "    'rfc__n_estimators': [500, 750, 1000, 1250],\n",
    "    'rfc__max_depth': [5,10,15,20,25,30,35],\n",
    "    'rfc__min_samples_split': [1,2,3,4,5,6,7],\n",
    "    'rfc__min_samples_leaf': [2, 3,4,5],\n",
    "    'rfc__max_features' : ['auto', 'sqrt', 'log2']\n",
    "    \n",
    "}"
   ]
  },
  {
   "cell_type": "code",
   "execution_count": 48,
   "metadata": {
    "ExecuteTime": {
     "end_time": "2021-05-03T18:59:20.258424Z",
     "start_time": "2021-05-03T18:59:20.248415Z"
    }
   },
   "outputs": [],
   "source": [
    "rf_pipe1 = RandomizedSearchCV(pipe1,pipe1_params,cv=5,n_iter=100,verbose=1,n_jobs=-2,random_state=42)"
   ]
  },
  {
   "cell_type": "code",
   "execution_count": 49,
   "metadata": {
    "ExecuteTime": {
     "end_time": "2021-05-03T19:16:33.710189Z",
     "start_time": "2021-05-03T18:59:20.838282Z"
    }
   },
   "outputs": [
    {
     "name": "stdout",
     "output_type": "stream",
     "text": [
      "Fitting 5 folds for each of 100 candidates, totalling 500 fits\n"
     ]
    },
    {
     "name": "stderr",
     "output_type": "stream",
     "text": [
      "[Parallel(n_jobs=-2)]: Using backend LokyBackend with 15 concurrent workers.\n",
      "[Parallel(n_jobs=-2)]: Done  20 tasks      | elapsed:   54.5s\n",
      "[Parallel(n_jobs=-2)]: Done 170 tasks      | elapsed:  5.8min\n",
      "[Parallel(n_jobs=-2)]: Done 420 tasks      | elapsed: 14.1min\n",
      "[Parallel(n_jobs=-2)]: Done 500 out of 500 | elapsed: 16.8min finished\n"
     ]
    },
    {
     "data": {
      "text/plain": [
       "RandomizedSearchCV(cv=5,\n",
       "                   estimator=Pipeline(steps=[('pca', PCA(random_state=42)),\n",
       "                                             ('rfc',\n",
       "                                              RandomForestClassifier())]),\n",
       "                   n_iter=100, n_jobs=-2,\n",
       "                   param_distributions={'pca__n_components': [300, 350, 400,\n",
       "                                                              450, 500, 550,\n",
       "                                                              600, 650, 700,\n",
       "                                                              750, 800],\n",
       "                                        'rfc__max_depth': [5, 10, 15, 20, 25,\n",
       "                                                           30, 35],\n",
       "                                        'rfc__max_features': ['auto', 'sqrt',\n",
       "                                                              'log2'],\n",
       "                                        'rfc__min_samples_leaf': [2, 3, 4, 5],\n",
       "                                        'rfc__min_samples_split': [1, 2, 3, 4,\n",
       "                                                                   5, 6, 7],\n",
       "                                        'rfc__n_estimators': [500, 750, 1000,\n",
       "                                                              1250]},\n",
       "                   random_state=42, verbose=1)"
      ]
     },
     "execution_count": 49,
     "metadata": {},
     "output_type": "execute_result"
    }
   ],
   "source": [
    "rf_pipe1.fit(X_train,y_train)"
   ]
  },
  {
   "cell_type": "code",
   "execution_count": 50,
   "metadata": {
    "ExecuteTime": {
     "end_time": "2021-05-03T19:58:50.844585Z",
     "start_time": "2021-05-03T19:58:50.838570Z"
    }
   },
   "outputs": [
    {
     "data": {
      "text/plain": [
       "{'rfc__n_estimators': 750,\n",
       " 'rfc__min_samples_split': 3,\n",
       " 'rfc__min_samples_leaf': 5,\n",
       " 'rfc__max_features': 'auto',\n",
       " 'rfc__max_depth': 10,\n",
       " 'pca__n_components': 600}"
      ]
     },
     "execution_count": 50,
     "metadata": {},
     "output_type": "execute_result"
    }
   ],
   "source": [
    "rf_pipe1.best_params_"
   ]
  },
  {
   "cell_type": "code",
   "execution_count": 51,
   "metadata": {
    "ExecuteTime": {
     "end_time": "2021-05-03T19:59:02.685421Z",
     "start_time": "2021-05-03T19:59:02.669397Z"
    }
   },
   "outputs": [
    {
     "data": {
      "text/plain": [
       "0.7715336452687919"
      ]
     },
     "execution_count": 51,
     "metadata": {},
     "output_type": "execute_result"
    }
   ],
   "source": [
    "rf_pipe1.best_score_"
   ]
  },
  {
   "cell_type": "code",
   "execution_count": 52,
   "metadata": {
    "ExecuteTime": {
     "end_time": "2021-05-03T19:59:27.889956Z",
     "start_time": "2021-05-03T19:59:26.867410Z"
    },
    "scrolled": true
   },
   "outputs": [
    {
     "data": {
      "text/plain": [
       "(0.985233798195242, 0.7585681645087585)"
      ]
     },
     "execution_count": 52,
     "metadata": {},
     "output_type": "execute_result"
    }
   ],
   "source": [
    "rf_pipe1.score(X_train,y_train), rf_pipe1.score(X_test,y_test)"
   ]
  },
  {
   "cell_type": "code",
   "execution_count": 99,
   "metadata": {
    "ExecuteTime": {
     "end_time": "2021-05-03T20:44:49.669427Z",
     "start_time": "2021-05-03T20:44:48.850404Z"
    }
   },
   "outputs": [
    {
     "data": {
      "text/plain": [
       "(0.9980391120220802, 0.8312760567593336)"
      ]
     },
     "execution_count": 99,
     "metadata": {},
     "output_type": "execute_result"
    }
   ],
   "source": [
    "roc_auc_score(y_train, rf_pipe1.predict_proba(X_train)[:,1]),roc_auc_score(y_test, rf_pipe1.predict_log_proba(X_test)[:,1])"
   ]
  },
  {
   "cell_type": "code",
   "execution_count": 57,
   "metadata": {
    "ExecuteTime": {
     "end_time": "2021-05-03T20:03:16.364952Z",
     "start_time": "2021-05-03T20:03:16.052076Z"
    },
    "scrolled": true
   },
   "outputs": [
    {
     "data": {
      "text/plain": [
       "0.8312760567593336"
      ]
     },
     "execution_count": 57,
     "metadata": {},
     "output_type": "execute_result"
    }
   ],
   "source": [
    "roc_auc_score(y_test, rf_pipe1.predict_proba(X_test)[:,1])"
   ]
  },
  {
   "cell_type": "code",
   "execution_count": 106,
   "metadata": {
    "ExecuteTime": {
     "end_time": "2021-05-03T20:53:50.905012Z",
     "start_time": "2021-05-03T20:53:50.442615Z"
    },
    "scrolled": true
   },
   "outputs": [
    {
     "data": {
      "text/plain": [
       "['./models/RandomForest_1.pkl']"
      ]
     },
     "execution_count": 106,
     "metadata": {},
     "output_type": "execute_result"
    }
   ],
   "source": [
    "joblib.dump(rf_pipe1,'./models/RandomForest_1.pkl')"
   ]
  },
  {
   "cell_type": "code",
   "execution_count": null,
   "metadata": {},
   "outputs": [],
   "source": []
  },
  {
   "cell_type": "code",
   "execution_count": 119,
   "metadata": {
    "ExecuteTime": {
     "end_time": "2021-05-03T21:26:54.238123Z",
     "start_time": "2021-05-03T21:26:54.229115Z"
    }
   },
   "outputs": [],
   "source": [
    "pipe2 = Pipeline([\n",
    "    ('pca', PCA(random_state=42)),\n",
    "    ('rfc', RandomForestClassifier())\n",
    "])"
   ]
  },
  {
   "cell_type": "code",
   "execution_count": 120,
   "metadata": {
    "ExecuteTime": {
     "end_time": "2021-05-03T21:26:54.627254Z",
     "start_time": "2021-05-03T21:26:54.611241Z"
    }
   },
   "outputs": [],
   "source": [
    "pipe2_params = {\n",
    "    'pca__n_components' : list(range(300,901,50)),\n",
    "    'rfc__n_estimators': list(range(500,3000,100)),\n",
    "    'rfc__max_depth': [5,10,15,20,25,30,35],\n",
    "    'rfc__min_samples_split': [1,2,3,4,5,6,7],\n",
    "    'rfc__min_samples_leaf': [2, 3,4,5],\n",
    "    'rfc__max_features' : ['auto', 'sqrt', 'log2']\n",
    "    \n",
    "}"
   ]
  },
  {
   "cell_type": "code",
   "execution_count": 121,
   "metadata": {
    "ExecuteTime": {
     "end_time": "2021-05-03T21:26:58.229904Z",
     "start_time": "2021-05-03T21:26:58.214890Z"
    }
   },
   "outputs": [],
   "source": [
    "rf_pipe2 = RandomizedSearchCV(pipe2,pipe2_params,cv=5,n_iter=100,verbose=1,n_jobs=-2,random_state=42,scoring='roc_auc')"
   ]
  },
  {
   "cell_type": "code",
   "execution_count": 122,
   "metadata": {
    "ExecuteTime": {
     "end_time": "2021-05-03T21:59:25.136686Z",
     "start_time": "2021-05-03T21:27:03.812141Z"
    }
   },
   "outputs": [
    {
     "name": "stdout",
     "output_type": "stream",
     "text": [
      "Fitting 5 folds for each of 100 candidates, totalling 500 fits\n"
     ]
    },
    {
     "name": "stderr",
     "output_type": "stream",
     "text": [
      "[Parallel(n_jobs=-2)]: Using backend LokyBackend with 15 concurrent workers.\n",
      "[Parallel(n_jobs=-2)]: Done  20 tasks      | elapsed:  1.3min\n",
      "[Parallel(n_jobs=-2)]: Done 170 tasks      | elapsed: 10.7min\n",
      "[Parallel(n_jobs=-2)]: Done 420 tasks      | elapsed: 25.9min\n",
      "[Parallel(n_jobs=-2)]: Done 500 out of 500 | elapsed: 31.4min finished\n"
     ]
    },
    {
     "data": {
      "text/plain": [
       "RandomizedSearchCV(cv=5,\n",
       "                   estimator=Pipeline(steps=[('pca', PCA(random_state=42)),\n",
       "                                             ('rfc',\n",
       "                                              RandomForestClassifier())]),\n",
       "                   n_iter=100, n_jobs=-2,\n",
       "                   param_distributions={'pca__n_components': [300, 350, 400,\n",
       "                                                              450, 500, 550,\n",
       "                                                              600, 650, 700,\n",
       "                                                              750, 800, 850,\n",
       "                                                              900],\n",
       "                                        'rfc__max_depth': [5, 10, 15, 20, 25,\n",
       "                                                           30, 35],\n",
       "                                        'rfc__max_features': ['auto', 'sqrt',\n",
       "                                                              'log2'],\n",
       "                                        'rfc__min_samples_leaf': [2, 3, 4, 5],\n",
       "                                        'rfc__min_samples_split': [1, 2, 3, 4,\n",
       "                                                                   5, 6, 7],\n",
       "                                        'rfc__n_estimators': [500, 600, 700,\n",
       "                                                              800, 900, 1000,\n",
       "                                                              1100, 1200, 1300,\n",
       "                                                              1400, 1500, 1600,\n",
       "                                                              1700, 1800, 1900,\n",
       "                                                              2000, 2100, 2200,\n",
       "                                                              2300, 2400, 2500,\n",
       "                                                              2600, 2700, 2800,\n",
       "                                                              2900]},\n",
       "                   random_state=42, scoring='roc_auc', verbose=1)"
      ]
     },
     "execution_count": 122,
     "metadata": {},
     "output_type": "execute_result"
    }
   ],
   "source": [
    "rf_pipe2.fit(X_train,y_train)"
   ]
  },
  {
   "cell_type": "code",
   "execution_count": 124,
   "metadata": {
    "ExecuteTime": {
     "end_time": "2021-05-03T21:59:47.362183Z",
     "start_time": "2021-05-03T21:59:47.349580Z"
    }
   },
   "outputs": [
    {
     "data": {
      "text/plain": [
       "0.8405347230539716"
      ]
     },
     "execution_count": 124,
     "metadata": {},
     "output_type": "execute_result"
    }
   ],
   "source": [
    "rf_pipe2.best_score_"
   ]
  },
  {
   "cell_type": "code",
   "execution_count": 127,
   "metadata": {
    "ExecuteTime": {
     "end_time": "2021-05-03T22:15:56.849907Z",
     "start_time": "2021-05-03T22:15:56.832903Z"
    }
   },
   "outputs": [
    {
     "data": {
      "text/plain": [
       "Pipeline(steps=[('pca', PCA(n_components=300, random_state=42)),\n",
       "                ('rfc',\n",
       "                 RandomForestClassifier(max_depth=25, min_samples_leaf=4,\n",
       "                                        n_estimators=2200))])"
      ]
     },
     "execution_count": 127,
     "metadata": {},
     "output_type": "execute_result"
    }
   ],
   "source": [
    "rf_pipe2.best_estimator_"
   ]
  },
  {
   "cell_type": "code",
   "execution_count": 125,
   "metadata": {
    "ExecuteTime": {
     "end_time": "2021-05-03T22:00:32.899024Z",
     "start_time": "2021-05-03T22:00:30.984906Z"
    }
   },
   "outputs": [
    {
     "data": {
      "text/plain": [
       "(0.9994841908913941, 0.8370716408981285)"
      ]
     },
     "execution_count": 125,
     "metadata": {},
     "output_type": "execute_result"
    }
   ],
   "source": [
    "rf_pipe2.score(X_train, y_train), rf_pipe2.score(X_test,y_test)"
   ]
  },
  {
   "cell_type": "code",
   "execution_count": 126,
   "metadata": {
    "ExecuteTime": {
     "end_time": "2021-05-03T22:12:30.193211Z",
     "start_time": "2021-05-03T22:12:28.554709Z"
    },
    "scrolled": true
   },
   "outputs": [
    {
     "data": {
      "text/plain": [
       "['./models/RandomForest_roc.pkl']"
      ]
     },
     "execution_count": 126,
     "metadata": {},
     "output_type": "execute_result"
    }
   ],
   "source": [
    "joblib.dump(rf_pipe2,'./models/RandomForest_roc.pkl')"
   ]
  },
  {
   "cell_type": "code",
   "execution_count": 128,
   "metadata": {
    "ExecuteTime": {
     "end_time": "2021-05-03T22:18:08.788931Z",
     "start_time": "2021-05-03T22:18:08.766911Z"
    }
   },
   "outputs": [],
   "source": [
    "pipe3_params = {\n",
    "    'pca__n_components' : list(range(150,801,50)),\n",
    "    'rfc__n_estimators': list(range(2000,3000,50)),\n",
    "    'rfc__max_depth': [20,21,22,23,24,25,30,35],\n",
    "    'rfc__min_samples_split': [1,2,3,4,5,6,7],\n",
    "    'rfc__min_samples_leaf': [3,4,5,6],\n",
    "    'rfc__max_features' : ['auto', 'sqrt', 'log2']\n",
    "    \n",
    "}"
   ]
  },
  {
   "cell_type": "code",
   "execution_count": 130,
   "metadata": {
    "ExecuteTime": {
     "end_time": "2021-05-03T22:19:27.979472Z",
     "start_time": "2021-05-03T22:19:27.966461Z"
    }
   },
   "outputs": [],
   "source": [
    "rf_pipe3 = RandomizedSearchCV(pipe2,pipe3_params,cv=5,n_iter=100,verbose=1,n_jobs=-2,random_state=42,scoring='roc_auc')"
   ]
  },
  {
   "cell_type": "code",
   "execution_count": 131,
   "metadata": {
    "ExecuteTime": {
     "end_time": "2021-05-03T22:57:10.382580Z",
     "start_time": "2021-05-03T22:19:38.118645Z"
    }
   },
   "outputs": [
    {
     "name": "stdout",
     "output_type": "stream",
     "text": [
      "Fitting 5 folds for each of 100 candidates, totalling 500 fits\n"
     ]
    },
    {
     "name": "stderr",
     "output_type": "stream",
     "text": [
      "[Parallel(n_jobs=-2)]: Using backend LokyBackend with 15 concurrent workers.\n",
      "[Parallel(n_jobs=-2)]: Done  20 tasks      | elapsed:  2.0min\n",
      "[Parallel(n_jobs=-2)]: Done 170 tasks      | elapsed: 13.6min\n",
      "[Parallel(n_jobs=-2)]: Done 420 tasks      | elapsed: 31.1min\n",
      "[Parallel(n_jobs=-2)]: Done 500 out of 500 | elapsed: 37.0min finished\n"
     ]
    },
    {
     "data": {
      "text/plain": [
       "RandomizedSearchCV(cv=5,\n",
       "                   estimator=Pipeline(steps=[('pca', PCA(random_state=42)),\n",
       "                                             ('rfc',\n",
       "                                              RandomForestClassifier())]),\n",
       "                   n_iter=100, n_jobs=-2,\n",
       "                   param_distributions={'pca__n_components': [150, 200, 250,\n",
       "                                                              300, 350, 400,\n",
       "                                                              450, 500, 550,\n",
       "                                                              600, 650, 700,\n",
       "                                                              750, 800],\n",
       "                                        'rfc__max_depth': [20, 21, 22, 23, 24,\n",
       "                                                           25, 30, 35],\n",
       "                                        'rfc__max_features': ['auto', 'sqrt',\n",
       "                                                              'log2'],\n",
       "                                        'rfc__min_samples_leaf': [3, 4, 5, 6],\n",
       "                                        'rfc__min_samples_split': [1, 2, 3, 4,\n",
       "                                                                   5, 6, 7],\n",
       "                                        'rfc__n_estimators': [2000, 2050, 2100,\n",
       "                                                              2150, 2200, 2250,\n",
       "                                                              2300, 2350, 2400,\n",
       "                                                              2450, 2500, 2550,\n",
       "                                                              2600, 2650, 2700,\n",
       "                                                              2750, 2800, 2850,\n",
       "                                                              2900, 2950]},\n",
       "                   random_state=42, scoring='roc_auc', verbose=1)"
      ]
     },
     "execution_count": 131,
     "metadata": {},
     "output_type": "execute_result"
    }
   ],
   "source": [
    "rf_pipe3.fit(X_train,y_train)"
   ]
  },
  {
   "cell_type": "markdown",
   "metadata": {},
   "source": [
    "# Extra Trees."
   ]
  },
  {
   "cell_type": "code",
   "execution_count": 84,
   "metadata": {
    "ExecuteTime": {
     "end_time": "2021-05-03T20:11:18.583311Z",
     "start_time": "2021-05-03T20:11:18.568297Z"
    }
   },
   "outputs": [],
   "source": [
    "pipe_et = Pipeline([\n",
    "    ('pca', PCA(random_state=42)),\n",
    "    ('et', ExtraTreesClassifier(random_state=42))\n",
    "])"
   ]
  },
  {
   "cell_type": "code",
   "execution_count": 88,
   "metadata": {
    "ExecuteTime": {
     "end_time": "2021-05-03T20:12:12.075022Z",
     "start_time": "2021-05-03T20:12:12.062010Z"
    }
   },
   "outputs": [],
   "source": [
    "et_params = {\n",
    "    'pca__n_components' : list(range(300,801,50)),\n",
    "    'et__n_estimators': list(range(500,1000,100)),\n",
    "    'et__max_depth':[10,15,20,25,30,35],\n",
    "    'et__min_samples_split': [1,2,3,4,5],\n",
    "    'et__min_samples_leaf': [1,2,3,4,5],\n",
    "    'et__bootstrap': [True, False],\n",
    "    'et__max_features': ['auto'],\n",
    "    'et__class_weight': ['balanced'],\n",
    "    'et__ccp_alpha' : list(range(1,51,10))\n",
    "}"
   ]
  },
  {
   "cell_type": "code",
   "execution_count": 89,
   "metadata": {
    "ExecuteTime": {
     "end_time": "2021-05-03T20:12:12.462506Z",
     "start_time": "2021-05-03T20:12:12.454500Z"
    }
   },
   "outputs": [],
   "source": [
    "et_model = RandomizedSearchCV(pipe_et,et_params,cv=5,n_iter=100,verbose=1,n_jobs=-2,random_state=42,scoring='roc_auc')           "
   ]
  },
  {
   "cell_type": "code",
   "execution_count": 90,
   "metadata": {
    "ExecuteTime": {
     "end_time": "2021-05-03T20:22:47.263237Z",
     "start_time": "2021-05-03T20:12:12.943022Z"
    }
   },
   "outputs": [
    {
     "name": "stdout",
     "output_type": "stream",
     "text": [
      "Fitting 5 folds for each of 100 candidates, totalling 500 fits\n"
     ]
    },
    {
     "name": "stderr",
     "output_type": "stream",
     "text": [
      "[Parallel(n_jobs=-2)]: Using backend LokyBackend with 15 concurrent workers.\n",
      "[Parallel(n_jobs=-2)]: Done  20 tasks      | elapsed:   51.1s\n",
      "[Parallel(n_jobs=-2)]: Done 170 tasks      | elapsed:  3.8min\n",
      "[Parallel(n_jobs=-2)]: Done 420 tasks      | elapsed:  9.0min\n",
      "[Parallel(n_jobs=-2)]: Done 500 out of 500 | elapsed: 10.5min finished\n"
     ]
    },
    {
     "data": {
      "text/plain": [
       "RandomizedSearchCV(cv=5,\n",
       "                   estimator=Pipeline(steps=[('pca', PCA(random_state=42)),\n",
       "                                             ('et',\n",
       "                                              ExtraTreesClassifier(random_state=42))]),\n",
       "                   n_iter=100, n_jobs=-2,\n",
       "                   param_distributions={'et__bootstrap': [True, False],\n",
       "                                        'et__ccp_alpha': [1, 11, 21, 31, 41],\n",
       "                                        'et__class_weight': ['balanced'],\n",
       "                                        'et__max_depth': [10, 15, 20, 25, 30,\n",
       "                                                          35],\n",
       "                                        'et__max_features': ['auto'],\n",
       "                                        'et__min_samples_leaf': [1, 2, 3, 4, 5],\n",
       "                                        'et__min_samples_split': [1, 2, 3, 4,\n",
       "                                                                  5],\n",
       "                                        'et__n_estimators': [500, 600, 700, 800,\n",
       "                                                             900],\n",
       "                                        'pca__n_components': [300, 350, 400,\n",
       "                                                              450, 500, 550,\n",
       "                                                              600, 650, 700,\n",
       "                                                              750, 800]},\n",
       "                   random_state=42, scoring='roc_auc', verbose=1)"
      ]
     },
     "execution_count": 90,
     "metadata": {},
     "output_type": "execute_result"
    }
   ],
   "source": [
    "et_model.fit(X_train,y_train)"
   ]
  },
  {
   "cell_type": "code",
   "execution_count": 91,
   "metadata": {
    "ExecuteTime": {
     "end_time": "2021-05-03T20:26:21.722848Z",
     "start_time": "2021-05-03T20:26:21.710837Z"
    }
   },
   "outputs": [
    {
     "data": {
      "text/plain": [
       "{'pca__n_components': 800,\n",
       " 'et__n_estimators': 500,\n",
       " 'et__min_samples_split': 3,\n",
       " 'et__min_samples_leaf': 3,\n",
       " 'et__max_features': 'auto',\n",
       " 'et__max_depth': 35,\n",
       " 'et__class_weight': 'balanced',\n",
       " 'et__ccp_alpha': 11,\n",
       " 'et__bootstrap': True}"
      ]
     },
     "execution_count": 91,
     "metadata": {},
     "output_type": "execute_result"
    }
   ],
   "source": [
    "et_model.best_params_"
   ]
  },
  {
   "cell_type": "code",
   "execution_count": 92,
   "metadata": {
    "ExecuteTime": {
     "end_time": "2021-05-03T20:26:31.516744Z",
     "start_time": "2021-05-03T20:26:31.508737Z"
    }
   },
   "outputs": [
    {
     "data": {
      "text/plain": [
       "0.5"
      ]
     },
     "execution_count": 92,
     "metadata": {},
     "output_type": "execute_result"
    }
   ],
   "source": [
    "et_model.best_score_"
   ]
  },
  {
   "cell_type": "code",
   "execution_count": 94,
   "metadata": {
    "ExecuteTime": {
     "end_time": "2021-05-03T20:27:11.731600Z",
     "start_time": "2021-05-03T20:27:11.303220Z"
    },
    "scrolled": true
   },
   "outputs": [
    {
     "data": {
      "text/plain": [
       "(0.5, 0.5)"
      ]
     },
     "execution_count": 94,
     "metadata": {},
     "output_type": "execute_result"
    }
   ],
   "source": [
    "et_model.score(X_train,y_train), et_model.score(X_test,y_test)"
   ]
  },
  {
   "cell_type": "code",
   "execution_count": null,
   "metadata": {},
   "outputs": [],
   "source": [
    "accuracy_"
   ]
  },
  {
   "cell_type": "code",
   "execution_count": null,
   "metadata": {},
   "outputs": [],
   "source": []
  },
  {
   "cell_type": "code",
   "execution_count": 95,
   "metadata": {
    "ExecuteTime": {
     "end_time": "2021-05-03T20:29:43.697635Z",
     "start_time": "2021-05-03T20:29:43.688627Z"
    }
   },
   "outputs": [],
   "source": [
    "et_model_2 = RandomizedSearchCV(pipe_et,et_params,cv=5,n_iter=100,verbose=1,n_jobs=-2,random_state=42)           "
   ]
  },
  {
   "cell_type": "code",
   "execution_count": 96,
   "metadata": {
    "ExecuteTime": {
     "end_time": "2021-05-03T20:40:38.681518Z",
     "start_time": "2021-05-03T20:29:53.415814Z"
    }
   },
   "outputs": [
    {
     "name": "stdout",
     "output_type": "stream",
     "text": [
      "Fitting 5 folds for each of 100 candidates, totalling 500 fits\n"
     ]
    },
    {
     "name": "stderr",
     "output_type": "stream",
     "text": [
      "[Parallel(n_jobs=-2)]: Using backend LokyBackend with 15 concurrent workers.\n",
      "[Parallel(n_jobs=-2)]: Done  20 tasks      | elapsed:   52.9s\n",
      "[Parallel(n_jobs=-2)]: Done 170 tasks      | elapsed:  3.9min\n",
      "[Parallel(n_jobs=-2)]: Done 420 tasks      | elapsed:  9.2min\n",
      "[Parallel(n_jobs=-2)]: Done 500 out of 500 | elapsed: 10.6min finished\n"
     ]
    },
    {
     "data": {
      "text/plain": [
       "RandomizedSearchCV(cv=5,\n",
       "                   estimator=Pipeline(steps=[('pca', PCA(random_state=42)),\n",
       "                                             ('et',\n",
       "                                              ExtraTreesClassifier(random_state=42))]),\n",
       "                   n_iter=100, n_jobs=-2,\n",
       "                   param_distributions={'et__bootstrap': [True, False],\n",
       "                                        'et__ccp_alpha': [1, 11, 21, 31, 41],\n",
       "                                        'et__class_weight': ['balanced'],\n",
       "                                        'et__max_depth': [10, 15, 20, 25, 30,\n",
       "                                                          35],\n",
       "                                        'et__max_features': ['auto'],\n",
       "                                        'et__min_samples_leaf': [1, 2, 3, 4, 5],\n",
       "                                        'et__min_samples_split': [1, 2, 3, 4,\n",
       "                                                                  5],\n",
       "                                        'et__n_estimators': [500, 600, 700, 800,\n",
       "                                                             900],\n",
       "                                        'pca__n_components': [300, 350, 400,\n",
       "                                                              450, 500, 550,\n",
       "                                                              600, 650, 700,\n",
       "                                                              750, 800]},\n",
       "                   random_state=42, verbose=1)"
      ]
     },
     "execution_count": 96,
     "metadata": {},
     "output_type": "execute_result"
    }
   ],
   "source": [
    "et_model_2.fit(X_train,y_train)"
   ]
  },
  {
   "cell_type": "code",
   "execution_count": 97,
   "metadata": {
    "ExecuteTime": {
     "end_time": "2021-05-03T20:44:13.139858Z",
     "start_time": "2021-05-03T20:44:13.129850Z"
    }
   },
   "outputs": [
    {
     "data": {
      "text/plain": [
       "0.5254098360655738"
      ]
     },
     "execution_count": 97,
     "metadata": {},
     "output_type": "execute_result"
    }
   ],
   "source": [
    "et_model_2.best_score_"
   ]
  },
  {
   "cell_type": "code",
   "execution_count": 111,
   "metadata": {
    "ExecuteTime": {
     "end_time": "2021-05-03T20:55:06.432860Z",
     "start_time": "2021-05-03T20:55:06.419838Z"
    }
   },
   "outputs": [
    {
     "data": {
      "text/plain": [
       "['./models/ExtraTrees_broke.pkl']"
      ]
     },
     "execution_count": 111,
     "metadata": {},
     "output_type": "execute_result"
    }
   ],
   "source": [
    "joblib.dump(et_model,'./models/ExtraTrees_broke.pkl')"
   ]
  },
  {
   "cell_type": "code",
   "execution_count": 107,
   "metadata": {
    "ExecuteTime": {
     "end_time": "2021-05-03T20:54:12.851391Z",
     "start_time": "2021-05-03T20:54:12.838380Z"
    }
   },
   "outputs": [],
   "source": [
    "pipe_et = Pipeline([\n",
    "    ('pca', PCA(random_state=42)),\n",
    "    ('et', ExtraTreesClassifier(random_state=42))\n",
    "])"
   ]
  },
  {
   "cell_type": "code",
   "execution_count": 112,
   "metadata": {
    "ExecuteTime": {
     "end_time": "2021-05-03T21:03:07.194908Z",
     "start_time": "2021-05-03T21:03:07.177889Z"
    }
   },
   "outputs": [],
   "source": [
    "et_params = {\n",
    "    'pca__n_components' : list(range(300,801,50)),\n",
    "    'et__n_estimators': list(range(500,3000,100)),\n",
    "    'et__max_depth':[10,15,20,25,30,35],\n",
    "    'et__min_samples_split': [1,2,3,4,5],\n",
    "    'et__min_samples_leaf': [1,2,3,4,5],\n",
    "    'et__bootstrap': [True, False],\n",
    "    'et__max_features': ['auto'],\n",
    "    'et__class_weight': ['balanced'],\n",
    "    'et__ccp_alpha' : list(range(1,51,10))\n",
    "}"
   ]
  },
  {
   "cell_type": "code",
   "execution_count": 113,
   "metadata": {
    "ExecuteTime": {
     "end_time": "2021-05-03T21:03:07.566508Z",
     "start_time": "2021-05-03T21:03:07.556503Z"
    }
   },
   "outputs": [],
   "source": [
    "et_model = RandomizedSearchCV(pipe_et,et_params,cv=5,n_iter=100,verbose=1,n_jobs=-2,random_state=42,scoring='roc_auc')           "
   ]
  },
  {
   "cell_type": "code",
   "execution_count": 114,
   "metadata": {
    "ExecuteTime": {
     "end_time": "2021-05-03T21:20:27.252613Z",
     "start_time": "2021-05-03T21:03:08.666973Z"
    }
   },
   "outputs": [
    {
     "name": "stdout",
     "output_type": "stream",
     "text": [
      "Fitting 5 folds for each of 100 candidates, totalling 500 fits\n"
     ]
    },
    {
     "name": "stderr",
     "output_type": "stream",
     "text": [
      "[Parallel(n_jobs=-2)]: Using backend LokyBackend with 15 concurrent workers.\n",
      "[Parallel(n_jobs=-2)]: Done  20 tasks      | elapsed:   35.6s\n",
      "[Parallel(n_jobs=-2)]: Done 170 tasks      | elapsed:  5.9min\n",
      "[Parallel(n_jobs=-2)]: Done 420 tasks      | elapsed: 14.2min\n",
      "[Parallel(n_jobs=-2)]: Done 500 out of 500 | elapsed: 17.1min finished\n"
     ]
    },
    {
     "data": {
      "text/plain": [
       "RandomizedSearchCV(cv=5,\n",
       "                   estimator=Pipeline(steps=[('pca', PCA(random_state=42)),\n",
       "                                             ('et',\n",
       "                                              ExtraTreesClassifier(random_state=42))]),\n",
       "                   n_iter=100, n_jobs=-2,\n",
       "                   param_distributions={'et__bootstrap': [True, False],\n",
       "                                        'et__ccp_alpha': [1, 11, 21, 31, 41],\n",
       "                                        'et__class_weight': ['balanced'],\n",
       "                                        'et__max_depth': [10, 15, 20, 25, 30,\n",
       "                                                          35],\n",
       "                                        'et__max_features': ['auto'],\n",
       "                                        'et__min_samples_leaf': [1, 2, 3, 4, 5],\n",
       "                                        'et__min_samples_split': [1, 2, 3, 4,\n",
       "                                                                  5],\n",
       "                                        'et__n_estimators': [500, 600, 700, 800,\n",
       "                                                             900, 1000, 1100,\n",
       "                                                             1200, 1300, 1400,\n",
       "                                                             1500, 1600, 1700,\n",
       "                                                             1800, 1900, 2000,\n",
       "                                                             2100, 2200, 2300,\n",
       "                                                             2400, 2500, 2600,\n",
       "                                                             2700, 2800, 2900],\n",
       "                                        'pca__n_components': [300, 350, 400,\n",
       "                                                              450, 500, 550,\n",
       "                                                              600, 650, 700,\n",
       "                                                              750, 800]},\n",
       "                   random_state=42, scoring='roc_auc', verbose=1)"
      ]
     },
     "execution_count": 114,
     "metadata": {},
     "output_type": "execute_result"
    }
   ],
   "source": [
    "et_model.fit(X_train,y_train)"
   ]
  },
  {
   "cell_type": "code",
   "execution_count": 115,
   "metadata": {
    "ExecuteTime": {
     "end_time": "2021-05-03T21:24:27.094469Z",
     "start_time": "2021-05-03T21:24:27.077453Z"
    }
   },
   "outputs": [
    {
     "data": {
      "text/plain": [
       "0.5"
      ]
     },
     "execution_count": 115,
     "metadata": {},
     "output_type": "execute_result"
    }
   ],
   "source": [
    "et_model.best_score_"
   ]
  },
  {
   "cell_type": "code",
   "execution_count": 116,
   "metadata": {
    "ExecuteTime": {
     "end_time": "2021-05-03T21:25:02.063871Z",
     "start_time": "2021-05-03T21:25:02.052861Z"
    }
   },
   "outputs": [
    {
     "data": {
      "text/plain": [
       "{'pca__n_components': 350,\n",
       " 'et__n_estimators': 1700,\n",
       " 'et__min_samples_split': 4,\n",
       " 'et__min_samples_leaf': 4,\n",
       " 'et__max_features': 'auto',\n",
       " 'et__max_depth': 35,\n",
       " 'et__class_weight': 'balanced',\n",
       " 'et__ccp_alpha': 21,\n",
       " 'et__bootstrap': True}"
      ]
     },
     "execution_count": 116,
     "metadata": {},
     "output_type": "execute_result"
    }
   ],
   "source": [
    "et_model.best_params_"
   ]
  },
  {
   "cell_type": "markdown",
   "metadata": {},
   "source": [
    "Completely failed, is the same as the baseline model. \n"
   ]
  },
  {
   "cell_type": "code",
   "execution_count": null,
   "metadata": {},
   "outputs": [],
   "source": []
  },
  {
   "cell_type": "code",
   "execution_count": null,
   "metadata": {},
   "outputs": [],
   "source": [
    "import joblib\n",
    "random_forest = joblib.load('./models/RandomForest_1.pkl')\n",
    "baseline = joblib.load('./models/baseline.pkl')\n",
    "extra_trees = joblib.load('./models/ExtraTrees_broke.pkl')"
   ]
  }
 ],
 "metadata": {
  "kernelspec": {
   "display_name": "Python 3",
   "language": "python",
   "name": "python3"
  },
  "language_info": {
   "codemirror_mode": {
    "name": "ipython",
    "version": 3
   },
   "file_extension": ".py",
   "mimetype": "text/x-python",
   "name": "python",
   "nbconvert_exporter": "python",
   "pygments_lexer": "ipython3",
   "version": "3.8.5"
  }
 },
 "nbformat": 4,
 "nbformat_minor": 4
}

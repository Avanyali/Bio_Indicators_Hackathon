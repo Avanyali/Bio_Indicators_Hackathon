{
 "cells": [
  {
   "cell_type": "code",
   "execution_count": 1,
   "id": "7789f9e4",
   "metadata": {},
   "outputs": [],
   "source": [
    "import numpy as np \n",
    "\n",
    "import pandas as pd \n",
    "\n",
    "import os\n",
    "\n",
    "import seaborn as sns\n",
    "\n",
    "import matplotlib.pyplot as plt\n",
    "%matplotlib inline\n",
    "\n",
    "from sklearn.manifold import TSNE\n",
    "from sklearn.decomposition import PCA\n",
    "from sklearn.preprocessing import MinMaxScaler\n",
    "from sklearn.model_selection import cross_val_score\n",
    "from sklearn.model_selection import RandomizedSearchCV\n",
    "from sklearn.model_selection import KFold\n",
    "from sklearn.model_selection import train_test_split\n",
    "from sklearn.model_selection import StratifiedKFold\n",
    "from sklearn.metrics import log_loss\n",
    "from sklearn.metrics import confusion_matrix\n",
    "from sklearn.ensemble import BaggingClassifier\n",
    "from sklearn.svm import SVC\n",
    "from sklearn.decomposition import PCA\n",
    "import time\n",
    "import joblib\n",
    "\n",
    "import warnings\n",
    "warnings.filterwarnings('ignore')"
   ]
  },
  {
   "cell_type": "code",
   "execution_count": 2,
   "id": "686c1434",
   "metadata": {},
   "outputs": [],
   "source": [
    "bio = pd.read_csv('data/test.csv')"
   ]
  },
  {
   "cell_type": "code",
   "execution_count": 3,
   "id": "b9707f0e",
   "metadata": {},
   "outputs": [
    {
     "data": {
      "text/plain": [
       "(2501, 1776)"
      ]
     },
     "execution_count": 3,
     "metadata": {},
     "output_type": "execute_result"
    }
   ],
   "source": [
    "bio.shape"
   ]
  },
  {
   "cell_type": "code",
   "execution_count": 4,
   "id": "5aa17b85",
   "metadata": {},
   "outputs": [],
   "source": [
    "train = pd.read_csv('data/train.csv')"
   ]
  },
  {
   "cell_type": "code",
   "execution_count": 5,
   "id": "1928c5d9",
   "metadata": {},
   "outputs": [
    {
     "data": {
      "text/plain": [
       "(3751, 1777)"
      ]
     },
     "execution_count": 5,
     "metadata": {},
     "output_type": "execute_result"
    }
   ],
   "source": [
    "train.shape"
   ]
  },
  {
   "cell_type": "markdown",
   "id": "historic-knife",
   "metadata": {},
   "source": [
    "## Read Data"
   ]
  },
  {
   "cell_type": "code",
   "execution_count": 6,
   "id": "tropical-ensemble",
   "metadata": {},
   "outputs": [
    {
     "name": "stdout",
     "output_type": "stream",
     "text": [
      "         D1        D2    D3   D4        D5        D6        D7        D8  \\\n",
      "0  0.366667  0.611765  0.05  0.0  0.110435  0.803973  0.106075  0.473965   \n",
      "1  0.100000  0.758175  0.30  0.0  0.180128  0.621378  0.287144  0.503919   \n",
      "2  0.100000  0.658812  0.10  0.0  0.243421  0.640959  0.312765  0.279784   \n",
      "3  0.100000  0.655752  0.10  0.0  0.226978  0.776996  0.150657  0.336948   \n",
      "4  0.000000  0.484851  0.00  0.0  0.561200  0.771463  0.244287  0.293096   \n",
      "5  0.166667  0.599212  0.05  0.0  0.181274  0.815924  0.136971  0.092700   \n",
      "6  0.000000  0.467971  0.05  0.0  0.165139  0.671504  0.296463  0.512215   \n",
      "7  0.000000  0.719994  0.05  0.0  0.458446  0.632341  0.373370  0.615524   \n",
      "8  0.000000  0.442633  0.05  0.0  0.113797  0.622830  0.374005  0.547289   \n",
      "9  0.100000  0.560006  0.00  0.0  0.218233  0.641587  0.327974  0.520868   \n",
      "\n",
      "         D9       D10  ...  D1767  D1768  D1769  D1770  D1771  D1772  D1773  \\\n",
      "0  0.835617  0.106452  ...      1      1      1      1      0      1      0   \n",
      "1  0.674919  0.403616  ...      0      0      0      0      0      0      0   \n",
      "2  0.686775  0.280301  ...      0      0      0      0      0      0      0   \n",
      "3  0.802121  0.125608  ...      0      0      0      0      0      0      0   \n",
      "4  0.717575  0.230842  ...      0      0      0      0      0      0      0   \n",
      "5  0.821606  0.129070  ...      0      0      0      0      0      0      0   \n",
      "6  0.765336  0.326932  ...      0      0      0      0      0      0      0   \n",
      "7  0.672297  0.419994  ...      0      0      0      0      0      0      0   \n",
      "8  0.737254  0.346434  ...      0      0      0      0      0      0      0   \n",
      "9  0.687105  0.355012  ...      0      0      0      0      0      0      0   \n",
      "\n",
      "   D1774  D1775  D1776  \n",
      "0      0      1      0  \n",
      "1      0      0      0  \n",
      "2      0      0      0  \n",
      "3      0      0      0  \n",
      "4      0      0      0  \n",
      "5      0      0      0  \n",
      "6      0      0      0  \n",
      "7      0      0      0  \n",
      "8      0      0      0  \n",
      "9      0      0      0  \n",
      "\n",
      "[10 rows x 1776 columns]\n"
     ]
    }
   ],
   "source": [
    "print(bio.head(10))"
   ]
  },
  {
   "cell_type": "code",
   "execution_count": 7,
   "id": "expensive-directive",
   "metadata": {},
   "outputs": [
    {
     "name": "stdout",
     "output_type": "stream",
     "text": [
      "Missing Values 0\n",
      "Column names Index(['D1', 'D2', 'D3', 'D4', 'D5', 'D6', 'D7', 'D8', 'D9', 'D10',\n",
      "       ...\n",
      "       'D1767', 'D1768', 'D1769', 'D1770', 'D1771', 'D1772', 'D1773', 'D1774',\n",
      "       'D1775', 'D1776'],\n",
      "      dtype='object', length=1776)\n"
     ]
    }
   ],
   "source": [
    "print(\"Missing Values\",bio.isnull().sum().sum())\n",
    "print(\"Column names\",bio.columns)"
   ]
  },
  {
   "cell_type": "markdown",
   "id": "applicable-treaty",
   "metadata": {},
   "source": [
    "## Are missing values imputed/handled appropriately? "
   ]
  },
  {
   "cell_type": "markdown",
   "id": "agricultural-noise",
   "metadata": {},
   "source": [
    "Yes, 0 missing values"
   ]
  },
  {
   "cell_type": "markdown",
   "id": "necessary-scott",
   "metadata": {},
   "source": [
    "## Support Vector"
   ]
  },
  {
   "cell_type": "code",
   "execution_count": 8,
   "id": "digital-lloyd",
   "metadata": {},
   "outputs": [],
   "source": [
    "import numpy as np\n",
    "np.random.seed(42)"
   ]
  },
  {
   "cell_type": "code",
   "execution_count": 9,
   "id": "aquatic-cherry",
   "metadata": {},
   "outputs": [],
   "source": [
    "X = train.drop(columns='Activity')\n",
    "y = train['Activity']\n",
    "X_train, X_test, y_train, y_test = train_test_split(X, y, test_size=0.35, random_state=42, stratify = y)"
   ]
  },
  {
   "cell_type": "code",
   "execution_count": 10,
   "id": "tired-differential",
   "metadata": {},
   "outputs": [],
   "source": [
    "pca2 = PCA(n_components=500,random_state=42)\n",
    "X_train_pca2 = pca2.fit_transform(X_train)\n",
    "X_test_pca2 = pca2.transform(X_test)"
   ]
  },
  {
   "cell_type": "code",
   "execution_count": 11,
   "id": "sustained-retreat",
   "metadata": {},
   "outputs": [
    {
     "data": {
      "text/plain": [
       "SVC()"
      ]
     },
     "execution_count": 11,
     "metadata": {},
     "output_type": "execute_result"
    }
   ],
   "source": [
    "support_vector_Classifier = SVC()\n",
    "support_vector_Classifier.fit(X_train, y_train)"
   ]
  },
  {
   "cell_type": "code",
   "execution_count": 12,
   "id": "tropical-psychology",
   "metadata": {},
   "outputs": [
    {
     "data": {
      "text/plain": [
       "BaggingClassifier()"
      ]
     },
     "execution_count": 12,
     "metadata": {},
     "output_type": "execute_result"
    }
   ],
   "source": [
    "bagged_reg = BaggingClassifier()\n",
    "bagged_reg.fit(X_train, y_train)"
   ]
  },
  {
   "cell_type": "code",
   "execution_count": 13,
   "id": "blond-coast",
   "metadata": {},
   "outputs": [],
   "source": [
    "from sklearn.pipeline import Pipeline"
   ]
  },
  {
   "cell_type": "code",
   "execution_count": 14,
   "id": "convenient-ottawa",
   "metadata": {},
   "outputs": [],
   "source": [
    "pipesvu = Pipeline ([\n",
    "    ('PCA', PCA(random_state=42)),\n",
    "    ('SVC', SVC(random_state=42))\n",
    "])"
   ]
  },
  {
   "cell_type": "code",
   "execution_count": 15,
   "id": "taken-breathing",
   "metadata": {},
   "outputs": [],
   "source": [
    "pipe_params = {\n",
    "    'PCA__n_components': list(range(300, 801, 100)),\n",
    "    'SVC__C': np.logspace(-3, 2, 50),\n",
    "    'SVC__kernel': ['rbf', 'polynomial']\n",
    "}"
   ]
  },
  {
   "cell_type": "code",
   "execution_count": 16,
   "id": "lasting-round",
   "metadata": {},
   "outputs": [],
   "source": [
    "svc_model=RandomizedSearchCV(pipesvu, pipe_params, n_iter=100, scoring= 'roc_auc', random_state= 42, n_jobs=-2)"
   ]
  },
  {
   "cell_type": "code",
   "execution_count": 17,
   "id": "favorite-rating",
   "metadata": {},
   "outputs": [
    {
     "data": {
      "text/plain": [
       "RandomizedSearchCV(estimator=Pipeline(steps=[('PCA', PCA(random_state=42)),\n",
       "                                             ('SVC', SVC(random_state=42))]),\n",
       "                   n_iter=100, n_jobs=-2,\n",
       "                   param_distributions={'PCA__n_components': [300, 400, 500,\n",
       "                                                              600, 700, 800],\n",
       "                                        'SVC__C': array([1.00000000e-03, 1.26485522e-03, 1.59985872e-03, 2.02358965e-03,\n",
       "       2.55954792e-03, 3.23745754e-03, 4.09491506e-03, 5.17947468e-03,\n",
       "       6.55128557e-03, 8.2864...\n",
       "       7.19685673e-01, 9.10298178e-01, 1.15139540e+00, 1.45634848e+00,\n",
       "       1.84206997e+00, 2.32995181e+00, 2.94705170e+00, 3.72759372e+00,\n",
       "       4.71486636e+00, 5.96362332e+00, 7.54312006e+00, 9.54095476e+00,\n",
       "       1.20679264e+01, 1.52641797e+01, 1.93069773e+01, 2.44205309e+01,\n",
       "       3.08884360e+01, 3.90693994e+01, 4.94171336e+01, 6.25055193e+01,\n",
       "       7.90604321e+01, 1.00000000e+02]),\n",
       "                                        'SVC__kernel': ['rbf', 'polynomial']},\n",
       "                   random_state=42, scoring='roc_auc')"
      ]
     },
     "execution_count": 17,
     "metadata": {},
     "output_type": "execute_result"
    }
   ],
   "source": [
    "svc_model.fit(X_train, y_train)"
   ]
  },
  {
   "cell_type": "code",
   "execution_count": 18,
   "id": "purple-redhead",
   "metadata": {},
   "outputs": [
    {
     "data": {
      "text/plain": [
       "0.8483922325295064"
      ]
     },
     "execution_count": 18,
     "metadata": {},
     "output_type": "execute_result"
    }
   ],
   "source": [
    "svc_model.best_score_"
   ]
  },
  {
   "cell_type": "code",
   "execution_count": 19,
   "id": "modern-terror",
   "metadata": {},
   "outputs": [
    {
     "data": {
      "text/plain": [
       "{'SVC__kernel': 'rbf', 'SVC__C': 1.8420699693267164, 'PCA__n_components': 600}"
      ]
     },
     "execution_count": 19,
     "metadata": {},
     "output_type": "execute_result"
    }
   ],
   "source": [
    "svc_model.best_params_"
   ]
  },
  {
   "cell_type": "code",
   "execution_count": 20,
   "id": "documentary-white",
   "metadata": {},
   "outputs": [
    {
     "data": {
      "text/plain": [
       "['./models/svc_model.pkl']"
      ]
     },
     "execution_count": 20,
     "metadata": {},
     "output_type": "execute_result"
    }
   ],
   "source": [
    "joblib.dump(svc_model,'./models/svc_model.pkl')"
   ]
  },
  {
   "cell_type": "markdown",
   "id": "sweet-flower",
   "metadata": {},
   "source": [
    "## Bagging Model"
   ]
  },
  {
   "cell_type": "code",
   "execution_count": 21,
   "id": "reported-frontier",
   "metadata": {},
   "outputs": [],
   "source": [
    "pipe_bag = Pipeline ([\n",
    "    ('PCA', PCA(random_state=42)),\n",
    "    ('bag', BaggingClassifier(random_state=42))\n",
    "])"
   ]
  },
  {
   "cell_type": "code",
   "execution_count": 22,
   "id": "israeli-channels",
   "metadata": {},
   "outputs": [],
   "source": [
    "pipe_params = {\n",
    "    'PCA__n_components': list(range(300, 801, 100)),\n",
    "    'bag__n_estimators': list(range(10, 151, 10)),\n",
    "    'bag__max_samples': list(range(1, 5, 1)),\n",
    "    'bag__bootstrap': [True, False]\n",
    "}"
   ]
  },
  {
   "cell_type": "code",
   "execution_count": 23,
   "id": "legal-component",
   "metadata": {},
   "outputs": [],
   "source": [
    "bag_model=RandomizedSearchCV(pipe_bag, pipe_params, n_iter=100, scoring= 'roc_auc', random_state= 42, n_jobs=-2, verbose=1)"
   ]
  },
  {
   "cell_type": "code",
   "execution_count": null,
   "id": "recent-berry",
   "metadata": {},
   "outputs": [
    {
     "name": "stdout",
     "output_type": "stream",
     "text": [
      "Fitting 5 folds for each of 100 candidates, totalling 500 fits\n"
     ]
    }
   ],
   "source": [
    "bag_model.fit(X_train, y_train)"
   ]
  },
  {
   "cell_type": "code",
   "execution_count": null,
   "id": "incoming-think",
   "metadata": {},
   "outputs": [],
   "source": [
    "bag_model.best_score_"
   ]
  },
  {
   "cell_type": "code",
   "execution_count": null,
   "id": "incorrect-south",
   "metadata": {},
   "outputs": [],
   "source": [
    "bag_model.best_params_"
   ]
  },
  {
   "cell_type": "code",
   "execution_count": null,
   "id": "hindu-improvement",
   "metadata": {},
   "outputs": [],
   "source": [
    "joblib.dump(bag_model,'./models/bag_model.pkl')"
   ]
  }
 ],
 "metadata": {
  "kernelspec": {
   "display_name": "Python 3",
   "language": "python",
   "name": "python3"
  },
  "language_info": {
   "codemirror_mode": {
    "name": "ipython",
    "version": 3
   },
   "file_extension": ".py",
   "mimetype": "text/x-python",
   "name": "python",
   "nbconvert_exporter": "python",
   "pygments_lexer": "ipython3",
   "version": "3.8.5"
  }
 },
 "nbformat": 4,
 "nbformat_minor": 5
}

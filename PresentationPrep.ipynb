{
 "cells": [
  {
   "cell_type": "code",
   "execution_count": 45,
   "id": "193da77c",
   "metadata": {},
   "outputs": [],
   "source": [
    "import pandas as pd\n",
    "import numpy as np\n",
    "import seaborn as sns\n",
    "import matplotlib.pyplot as plt\n",
    "\n",
    "from sklearn.neighbors import KNeighborsRegressor\n",
    "from sklearn.linear_model import LogisticRegression\n",
    "from xgboost import XGBClassifier\n",
    "\n",
    "from sklearn.metrics import roc_auc_score\n",
    "import pickle\n",
    "import joblib\n",
    "\n",
    "from sklearn.model_selection import train_test_split\n",
    "from sklearn.metrics import confusion_matrix, plot_confusion_matrix"
   ]
  },
  {
   "cell_type": "markdown",
   "id": "db32e00d",
   "metadata": {},
   "source": [
    "- Import data"
   ]
  },
  {
   "cell_type": "code",
   "execution_count": 2,
   "id": "58bd9955",
   "metadata": {},
   "outputs": [],
   "source": [
    "bio = pd.read_csv('data/train.csv')"
   ]
  },
  {
   "cell_type": "code",
   "execution_count": 3,
   "id": "b49c008e",
   "metadata": {},
   "outputs": [],
   "source": [
    "logreg = pickle.load(open('models/LogReg_bs.sav', 'rb'))"
   ]
  },
  {
   "cell_type": "code",
   "execution_count": 4,
   "id": "7ce8c504",
   "metadata": {},
   "outputs": [],
   "source": [
    "knn = pickle.load(open('models/KNN_bs.sav', 'rb'))"
   ]
  },
  {
   "cell_type": "code",
   "execution_count": 5,
   "id": "d9c5ee08",
   "metadata": {},
   "outputs": [],
   "source": [
    "xgb = pickle.load(open('models/XGB_bs.sav', 'rb'))"
   ]
  },
  {
   "cell_type": "code",
   "execution_count": 6,
   "id": "15f48800",
   "metadata": {},
   "outputs": [],
   "source": [
    "random_forest = joblib.load('./models/RandomForest_roc.pkl')\n",
    "baseline = joblib.load('./models/baseline.pkl')\n",
    "extra_trees = joblib.load('./models/ExtraTrees_broke.pkl')"
   ]
  },
  {
   "cell_type": "code",
   "execution_count": 7,
   "id": "30613016",
   "metadata": {},
   "outputs": [
    {
     "name": "stderr",
     "output_type": "stream",
     "text": [
      "C:\\Users\\Avanyali\\AppData\\Roaming\\Python\\Python37\\site-packages\\sklearn\\base.py:334: UserWarning: Trying to unpickle estimator PCA from version 0.24.1 when using version 0.23.2. This might lead to breaking code or invalid results. Use at your own risk.\n",
      "  UserWarning)\n",
      "C:\\Users\\Avanyali\\AppData\\Roaming\\Python\\Python37\\site-packages\\sklearn\\base.py:334: UserWarning: Trying to unpickle estimator BaggingClassifier from version 0.24.1 when using version 0.23.2. This might lead to breaking code or invalid results. Use at your own risk.\n",
      "  UserWarning)\n",
      "C:\\Users\\Avanyali\\AppData\\Roaming\\Python\\Python37\\site-packages\\sklearn\\base.py:334: UserWarning: Trying to unpickle estimator Pipeline from version 0.24.1 when using version 0.23.2. This might lead to breaking code or invalid results. Use at your own risk.\n",
      "  UserWarning)\n",
      "C:\\Users\\Avanyali\\AppData\\Roaming\\Python\\Python37\\site-packages\\sklearn\\base.py:334: UserWarning: Trying to unpickle estimator DecisionTreeClassifier from version 0.24.1 when using version 0.23.2. This might lead to breaking code or invalid results. Use at your own risk.\n",
      "  UserWarning)\n",
      "C:\\Users\\Avanyali\\AppData\\Roaming\\Python\\Python37\\site-packages\\sklearn\\base.py:334: UserWarning: Trying to unpickle estimator RandomizedSearchCV from version 0.24.1 when using version 0.23.2. This might lead to breaking code or invalid results. Use at your own risk.\n",
      "  UserWarning)\n",
      "C:\\Users\\Avanyali\\AppData\\Roaming\\Python\\Python37\\site-packages\\sklearn\\base.py:334: UserWarning: Trying to unpickle estimator SVC from version 0.24.1 when using version 0.23.2. This might lead to breaking code or invalid results. Use at your own risk.\n",
      "  UserWarning)\n"
     ]
    }
   ],
   "source": [
    "bag = joblib.load('./models/bag_model.pkl')\n",
    "svc = joblib.load('./models/svc_model.pkl')"
   ]
  },
  {
   "cell_type": "markdown",
   "id": "4a7a5328",
   "metadata": {},
   "source": [
    "- Group model ROC/AUC scores"
   ]
  },
  {
   "cell_type": "code",
   "execution_count": 11,
   "id": "5e908728",
   "metadata": {},
   "outputs": [],
   "source": [
    "x_list = bio.columns.tolist()\n",
    "x_list.remove('Activity')\n",
    "X = bio[x_list]\n",
    "y = bio['Activity']\n",
    "\n",
    "X_train, X_test, y_train, y_test = train_test_split(X, y, random_state = 42, stratify = y, test_size = .35)"
   ]
  },
  {
   "cell_type": "code",
   "execution_count": 23,
   "id": "6e07b750",
   "metadata": {},
   "outputs": [],
   "source": [
    "score_frame = {}"
   ]
  },
  {
   "cell_type": "code",
   "execution_count": 24,
   "id": "3a4bd3ce",
   "metadata": {},
   "outputs": [],
   "source": [
    "for name, model in models.items():\n",
    "    if name not in ['bag', 'svc']:\n",
    "        score_frame[name] = {}\n",
    "        \n",
    "        score_frame[name]['train'] = model.score(X_train, y_train)\n",
    "        score_frame[name]['test'] = model.score(X_test, y_test)\n",
    "        \n",
    "        mod_dict = model.best_estimator_.named_steps\n",
    "        if 'pca' in mod_dict:\n",
    "            score_frame[name]['pca'] = mod_dict['pca'].n_components_\n",
    "        else:\n",
    "            score_frame[name]['pca'] = mod_dict['PCA'].n_components_"
   ]
  },
  {
   "cell_type": "code",
   "execution_count": 25,
   "id": "67a9dabe",
   "metadata": {},
   "outputs": [],
   "source": [
    "Z_train = bag.best_estimator_['PCA'].fit_transform(X_train)\n",
    "Z_test = bag.best_estimator_['PCA'].transform(X_test)\n",
    "bag_model = bag.best_estimator_['bag']"
   ]
  },
  {
   "cell_type": "code",
   "execution_count": 26,
   "id": "3bfb7160",
   "metadata": {},
   "outputs": [
    {
     "data": {
      "text/plain": [
       "BaggingClassifier(max_samples=4, n_estimators=100, random_state=42)"
      ]
     },
     "execution_count": 26,
     "metadata": {},
     "output_type": "execute_result"
    }
   ],
   "source": [
    "bag_model.fit(Z_train, y_train)"
   ]
  },
  {
   "cell_type": "code",
   "execution_count": 27,
   "id": "0ce242d1",
   "metadata": {},
   "outputs": [],
   "source": [
    "score_frame['bag'] = {}\n",
    "score_frame['bag']['train'] = roc_auc_score(y_train, bag_model.predict(Z_train))\n",
    "score_frame['bag']['test'] = roc_auc_score(y_test, bag_model.predict(Z_test))"
   ]
  },
  {
   "cell_type": "code",
   "execution_count": 29,
   "id": "163fc352",
   "metadata": {},
   "outputs": [],
   "source": [
    "Z_train2 = svc.best_estimator_['PCA'].fit_transform(X_train)\n",
    "Z_test2 = svc.best_estimator_['PCA'].transform(X_test)\n",
    "svc_model = svc.best_estimator_['SVC']"
   ]
  },
  {
   "cell_type": "code",
   "execution_count": 33,
   "id": "796d0926",
   "metadata": {},
   "outputs": [
    {
     "data": {
      "text/plain": [
       "SVC(C=1.8420699693267164, random_state=42)"
      ]
     },
     "execution_count": 33,
     "metadata": {},
     "output_type": "execute_result"
    }
   ],
   "source": [
    "svc_model.fit(Z_train2, y_train)"
   ]
  },
  {
   "cell_type": "code",
   "execution_count": 34,
   "id": "f2a4729f",
   "metadata": {},
   "outputs": [],
   "source": [
    "score_frame['svc'] = {}\n",
    "score_frame['svc']['train'] = roc_auc_score(y_train, svc_model.predict(Z_train2))\n",
    "score_frame['svc']['test'] = roc_auc_score(y_test, svc_model.predict(Z_test2))"
   ]
  },
  {
   "cell_type": "code",
   "execution_count": 36,
   "id": "aa9720d0",
   "metadata": {},
   "outputs": [],
   "source": [
    "score_frame = pd.DataFrame(score_frame)"
   ]
  },
  {
   "cell_type": "code",
   "execution_count": 37,
   "id": "e3d0740b",
   "metadata": {},
   "outputs": [
    {
     "data": {
      "text/html": [
       "<div>\n",
       "<style scoped>\n",
       "    .dataframe tbody tr th:only-of-type {\n",
       "        vertical-align: middle;\n",
       "    }\n",
       "\n",
       "    .dataframe tbody tr th {\n",
       "        vertical-align: top;\n",
       "    }\n",
       "\n",
       "    .dataframe thead th {\n",
       "        text-align: right;\n",
       "    }\n",
       "</style>\n",
       "<table border=\"1\" class=\"dataframe\">\n",
       "  <thead>\n",
       "    <tr style=\"text-align: right;\">\n",
       "      <th></th>\n",
       "      <th>rf</th>\n",
       "      <th>logreg</th>\n",
       "      <th>knn</th>\n",
       "      <th>xgb</th>\n",
       "      <th>bag</th>\n",
       "      <th>svc</th>\n",
       "    </tr>\n",
       "  </thead>\n",
       "  <tbody>\n",
       "    <tr>\n",
       "      <th>train</th>\n",
       "      <td>0.999484</td>\n",
       "      <td>0.875210</td>\n",
       "      <td>1.000000</td>\n",
       "      <td>0.94762</td>\n",
       "      <td>0.495077</td>\n",
       "      <td>0.900618</td>\n",
       "    </tr>\n",
       "    <tr>\n",
       "      <th>test</th>\n",
       "      <td>0.837072</td>\n",
       "      <td>0.827689</td>\n",
       "      <td>0.802878</td>\n",
       "      <td>0.79971</td>\n",
       "      <td>0.490007</td>\n",
       "      <td>0.781192</td>\n",
       "    </tr>\n",
       "    <tr>\n",
       "      <th>pca</th>\n",
       "      <td>300.000000</td>\n",
       "      <td>265.000000</td>\n",
       "      <td>1230.000000</td>\n",
       "      <td>666.00000</td>\n",
       "      <td>NaN</td>\n",
       "      <td>NaN</td>\n",
       "    </tr>\n",
       "  </tbody>\n",
       "</table>\n",
       "</div>"
      ],
      "text/plain": [
       "               rf      logreg          knn        xgb       bag       svc\n",
       "train    0.999484    0.875210     1.000000    0.94762  0.495077  0.900618\n",
       "test     0.837072    0.827689     0.802878    0.79971  0.490007  0.781192\n",
       "pca    300.000000  265.000000  1230.000000  666.00000       NaN       NaN"
      ]
     },
     "execution_count": 37,
     "metadata": {},
     "output_type": "execute_result"
    }
   ],
   "source": [
    "score_frame"
   ]
  },
  {
   "cell_type": "code",
   "execution_count": 41,
   "id": "865ef55b",
   "metadata": {},
   "outputs": [],
   "source": [
    "score_frame['bag']['pca'] = bag.best_estimator_.named_steps['PCA'].n_components_"
   ]
  },
  {
   "cell_type": "code",
   "execution_count": 43,
   "id": "22b57c78",
   "metadata": {},
   "outputs": [],
   "source": [
    "score_frame['svc']['pca'] = svc.best_estimator_.named_steps['PCA'].n_components_"
   ]
  },
  {
   "cell_type": "markdown",
   "id": "b7cf6e2b",
   "metadata": {},
   "source": [
    "- Plotting"
   ]
  },
  {
   "cell_type": "code",
   "execution_count": 44,
   "id": "523d22de",
   "metadata": {},
   "outputs": [
    {
     "data": {
      "text/html": [
       "<div>\n",
       "<style scoped>\n",
       "    .dataframe tbody tr th:only-of-type {\n",
       "        vertical-align: middle;\n",
       "    }\n",
       "\n",
       "    .dataframe tbody tr th {\n",
       "        vertical-align: top;\n",
       "    }\n",
       "\n",
       "    .dataframe thead th {\n",
       "        text-align: right;\n",
       "    }\n",
       "</style>\n",
       "<table border=\"1\" class=\"dataframe\">\n",
       "  <thead>\n",
       "    <tr style=\"text-align: right;\">\n",
       "      <th></th>\n",
       "      <th>rf</th>\n",
       "      <th>logreg</th>\n",
       "      <th>knn</th>\n",
       "      <th>xgb</th>\n",
       "      <th>bag</th>\n",
       "      <th>svc</th>\n",
       "    </tr>\n",
       "  </thead>\n",
       "  <tbody>\n",
       "    <tr>\n",
       "      <th>train</th>\n",
       "      <td>0.999484</td>\n",
       "      <td>0.875210</td>\n",
       "      <td>1.000000</td>\n",
       "      <td>0.94762</td>\n",
       "      <td>0.495077</td>\n",
       "      <td>0.900618</td>\n",
       "    </tr>\n",
       "    <tr>\n",
       "      <th>test</th>\n",
       "      <td>0.837072</td>\n",
       "      <td>0.827689</td>\n",
       "      <td>0.802878</td>\n",
       "      <td>0.79971</td>\n",
       "      <td>0.490007</td>\n",
       "      <td>0.781192</td>\n",
       "    </tr>\n",
       "    <tr>\n",
       "      <th>pca</th>\n",
       "      <td>300.000000</td>\n",
       "      <td>265.000000</td>\n",
       "      <td>1230.000000</td>\n",
       "      <td>666.00000</td>\n",
       "      <td>300.000000</td>\n",
       "      <td>600.000000</td>\n",
       "    </tr>\n",
       "  </tbody>\n",
       "</table>\n",
       "</div>"
      ],
      "text/plain": [
       "               rf      logreg          knn        xgb         bag         svc\n",
       "train    0.999484    0.875210     1.000000    0.94762    0.495077    0.900618\n",
       "test     0.837072    0.827689     0.802878    0.79971    0.490007    0.781192\n",
       "pca    300.000000  265.000000  1230.000000  666.00000  300.000000  600.000000"
      ]
     },
     "execution_count": 44,
     "metadata": {},
     "output_type": "execute_result"
    }
   ],
   "source": [
    "score_frame"
   ]
  },
  {
   "cell_type": "code",
   "execution_count": 54,
   "id": "96b63d41",
   "metadata": {},
   "outputs": [
    {
     "data": {
      "image/png": "[encoded data removed]",
      "text/plain": [
       "<Figure size 432x288 with 2 Axes>"
      ]
     },
     "metadata": {
      "needs_background": "light"
     },
     "output_type": "display_data"
    },
    {
     "data": {
      "image/png": "[encoded data removed]",
      "text/plain": [
       "<Figure size 432x288 with 2 Axes>"
      ]
     },
     "metadata": {
      "needs_background": "light"
     },
     "output_type": "display_data"
    },
    {
     "data": {
      "image/png": "[encoded data removed]",
      "text/plain": [
       "<Figure size 432x288 with 2 Axes>"
      ]
     },
     "metadata": {
      "needs_background": "light"
     },
     "output_type": "display_data"
    },
    {
     "data": {
      "image/png": "[encoded data removed]",
      "text/plain": [
       "<Figure size 432x288 with 2 Axes>"
      ]
     },
     "metadata": {
      "needs_background": "light"
     },
     "output_type": "display_data"
    },
    {
     "data": {
      "image/png": "[encoded data removed]",
      "text/plain": [
       "<Figure size 432x288 with 2 Axes>"
      ]
     },
     "metadata": {
      "needs_background": "light"
     },
     "output_type": "display_data"
    }
   ],
   "source": [
    "for name, model in models.items():\n",
    "    if name not in ['bag', 'svc', 'knn']:\n",
    "        plot_confusion_matrix(model, X_test, y_test, cmap='Blues',display_labels=['[0]', '[1]']);    \n",
    "        plt.title(f'Confusion matrix of {name}')\n",
    "        plt.show()\n",
    "           \n",
    "plot_confusion_matrix(bag_model, Z_test, y_test, cmap='Blues',display_labels=['[0]', '[1]']); \n",
    "plt.title(f'Confusion matrix of bagger')   \n",
    "plt.show()\n",
    "\n",
    "plot_confusion_matrix(svc_model, Z_test2, y_test, cmap='Blues',display_labels=['[0]', '[1]']); \n",
    "plt.title(f'Confusion matrix of SVM')\n",
    "plt.show()"
   ]
  },
  {
   "cell_type": "code",
   "execution_count": 65,
   "id": "3b866ba8",
   "metadata": {},
   "outputs": [],
   "source": [
    "sns.set_style('darkgrid')"
   ]
  },
  {
   "cell_type": "code",
   "execution_count": 68,
   "id": "c2252629",
   "metadata": {},
   "outputs": [
    {
     "data": {
      "image/png": "[encoded data removed]",
      "text/plain": [
       "<Figure size 432x288 with 1 Axes>"
      ]
     },
     "metadata": {},
     "output_type": "display_data"
    }
   ],
   "source": [
    "pcas = list(score_frame.loc['pca'].to_dict().values())\n",
    "\n",
    "plt.bar(score_frame.columns.tolist(), pcas)\n",
    "plt.title(\"Number of components select by Primary component analysis by model\")\n",
    "plt.xlabel('Model type')\n",
    "plt.ylabel(\"Number of components\")\n",
    "plt.show()"
   ]
  },
  {
   "cell_type": "code",
   "execution_count": 79,
   "id": "0805ca36",
   "metadata": {},
   "outputs": [
    {
     "data": {
      "image/png": "[encoded data removed]",
      "text/plain": [
       "<Figure size 432x288 with 1 Axes>"
      ]
     },
     "metadata": {},
     "output_type": "display_data"
    }
   ],
   "source": [
    "#credit to: https://matplotlib.org/stable/gallery/lines_bars_and_markers/barchart.html\n",
    "labels = score_frame.columns.tolist()\n",
    "train_scores = list(score_frame.loc['train'].to_dict().values())\n",
    "test_scores = list(score_frame.loc['test'].to_dict().values())\n",
    "\n",
    "x = np.arange(len(labels))\n",
    "\n",
    "fig, ax = plt.subplots()\n",
    "width = .35\n",
    "\n",
    "rects1 = ax.bar(x - width/2, train_scores, width, label='Training score')\n",
    "rects2 = ax.bar(x + width/2, test_scores, width, label='Testing score')\n",
    "\n",
    "ax.set_ylabel('Scores')\n",
    "ax.set_title('Training and testing scores by model')\n",
    "ax.set_xticks(x)\n",
    "ax.set_xticklabels(labels)\n",
    "ax.legend()\n",
    "\n",
    "fig.tight_layout()\n",
    "\n",
    "plt.show()"
   ]
  },
  {
   "cell_type": "code",
   "execution_count": null,
   "id": "acd13485",
   "metadata": {},
   "outputs": [],
   "source": []
  }
 ],
 "metadata": {
  "kernelspec": {
   "display_name": "Python 3",
   "language": "python",
   "name": "python3"
  },
  "language_info": {
   "codemirror_mode": {
    "name": "ipython",
    "version": 3
   },
   "file_extension": ".py",
   "mimetype": "text/x-python",
   "name": "python",
   "nbconvert_exporter": "python",
   "pygments_lexer": "ipython3",
   "version": "3.7.6"
  }
 },
 "nbformat": 4,
 "nbformat_minor": 5
}
